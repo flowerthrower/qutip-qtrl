{
 "cells": [
  {
   "cell_type": "code",
   "execution_count": 3,
   "metadata": {},
   "outputs": [],
   "source": [
    "import qutip as qt\n",
    "import numpy as np"
   ]
  },
  {
   "cell_type": "code",
   "execution_count": 4,
   "metadata": {},
   "outputs": [],
   "source": [
    "import goat\n",
    "from objective import Objective"
   ]
  },
  {
   "cell_type": "code",
   "execution_count": 7,
   "metadata": {},
   "outputs": [
    {
     "ename": "TypeError",
     "evalue": "The coefficient function must return a number",
     "output_type": "error",
     "traceback": [
      "\u001b[1;31m---------------------------------------------------------------------------\u001b[0m",
      "\u001b[1;31mTypeError\u001b[0m                                 Traceback (most recent call last)",
      "\u001b[1;32mc:\\Users\\Admin20200727\\Code\\qutip-qtrl\\src\\qutip_qtrl\\sandbox.ipynb Cell 3\u001b[0m line \u001b[0;36m1\n\u001b[0;32m      <a href='vscode-notebook-cell:/c%3A/Users/Admin20200727/Code/qutip-qtrl/src/qutip_qtrl/sandbox.ipynb#W0sZmlsZQ%3D%3D?line=8'>9</a>\u001b[0m obj \u001b[39m=\u001b[39m Objective(qt\u001b[39m.\u001b[39mqeye(\u001b[39m2\u001b[39m), H, qt\u001b[39m.\u001b[39msigmax())\n\u001b[0;32m     <a href='vscode-notebook-cell:/c%3A/Users/Admin20200727/Code/qutip-qtrl/src/qutip_qtrl/sandbox.ipynb#W0sZmlsZQ%3D%3D?line=9'>10</a>\u001b[0m tlist \u001b[39m=\u001b[39m np\u001b[39m.\u001b[39mlinspace(\u001b[39m0\u001b[39m,\u001b[39m1\u001b[39m,\u001b[39m100\u001b[39m)\n\u001b[1;32m---> <a href='vscode-notebook-cell:/c%3A/Users/Admin20200727/Code/qutip-qtrl/src/qutip_qtrl/sandbox.ipynb#W0sZmlsZQ%3D%3D?line=11'>12</a>\u001b[0m goat\u001b[39m.\u001b[39;49moptimize_pulses(\n\u001b[0;32m     <a href='vscode-notebook-cell:/c%3A/Users/Admin20200727/Code/qutip-qtrl/src/qutip_qtrl/sandbox.ipynb#W0sZmlsZQ%3D%3D?line=12'>13</a>\u001b[0m     objectives\u001b[39m=\u001b[39;49m[obj],\n\u001b[0;32m     <a href='vscode-notebook-cell:/c%3A/Users/Admin20200727/Code/qutip-qtrl/src/qutip_qtrl/sandbox.ipynb#W0sZmlsZQ%3D%3D?line=13'>14</a>\u001b[0m     pulse_options\u001b[39m=\u001b[39;49m{\n\u001b[0;32m     <a href='vscode-notebook-cell:/c%3A/Users/Admin20200727/Code/qutip-qtrl/src/qutip_qtrl/sandbox.ipynb#W0sZmlsZQ%3D%3D?line=14'>15</a>\u001b[0m         sin: {\n\u001b[0;32m     <a href='vscode-notebook-cell:/c%3A/Users/Admin20200727/Code/qutip-qtrl/src/qutip_qtrl/sandbox.ipynb#W0sZmlsZQ%3D%3D?line=15'>16</a>\u001b[0m             \u001b[39m\"\u001b[39;49m\u001b[39mguess\u001b[39;49m\u001b[39m\"\u001b[39;49m: np\u001b[39m.\u001b[39;49marray([\u001b[39m0.1\u001b[39;49m]),\n\u001b[0;32m     <a href='vscode-notebook-cell:/c%3A/Users/Admin20200727/Code/qutip-qtrl/src/qutip_qtrl/sandbox.ipynb#W0sZmlsZQ%3D%3D?line=16'>17</a>\u001b[0m             \u001b[39m\"\u001b[39;49m\u001b[39mbounds\u001b[39;49m\u001b[39m\"\u001b[39;49m: np\u001b[39m.\u001b[39;49marray([(\u001b[39m-\u001b[39;49m\u001b[39m1\u001b[39;49m, \u001b[39m1\u001b[39;49m)]),\n\u001b[0;32m     <a href='vscode-notebook-cell:/c%3A/Users/Admin20200727/Code/qutip-qtrl/src/qutip_qtrl/sandbox.ipynb#W0sZmlsZQ%3D%3D?line=17'>18</a>\u001b[0m         },\n\u001b[0;32m     <a href='vscode-notebook-cell:/c%3A/Users/Admin20200727/Code/qutip-qtrl/src/qutip_qtrl/sandbox.ipynb#W0sZmlsZQ%3D%3D?line=18'>19</a>\u001b[0m         \u001b[39m\"\u001b[39;49m\u001b[39mtime\u001b[39;49m\u001b[39m\"\u001b[39;49m: {\n\u001b[0;32m     <a href='vscode-notebook-cell:/c%3A/Users/Admin20200727/Code/qutip-qtrl/src/qutip_qtrl/sandbox.ipynb#W0sZmlsZQ%3D%3D?line=19'>20</a>\u001b[0m             \u001b[39m\"\u001b[39;49m\u001b[39mguess\u001b[39;49m\u001b[39m\"\u001b[39;49m: np\u001b[39m.\u001b[39;49marray([tlist[\u001b[39m-\u001b[39;49m\u001b[39m1\u001b[39;49m]]),\n\u001b[0;32m     <a href='vscode-notebook-cell:/c%3A/Users/Admin20200727/Code/qutip-qtrl/src/qutip_qtrl/sandbox.ipynb#W0sZmlsZQ%3D%3D?line=20'>21</a>\u001b[0m             \u001b[39m\"\u001b[39;49m\u001b[39mbounds\u001b[39;49m\u001b[39m\"\u001b[39;49m: np\u001b[39m.\u001b[39;49marray([(tlist[\u001b[39m0\u001b[39;49m], tlist[\u001b[39m-\u001b[39;49m\u001b[39m1\u001b[39;49m])]),\n\u001b[0;32m     <a href='vscode-notebook-cell:/c%3A/Users/Admin20200727/Code/qutip-qtrl/src/qutip_qtrl/sandbox.ipynb#W0sZmlsZQ%3D%3D?line=21'>22</a>\u001b[0m         }\n\u001b[0;32m     <a href='vscode-notebook-cell:/c%3A/Users/Admin20200727/Code/qutip-qtrl/src/qutip_qtrl/sandbox.ipynb#W0sZmlsZQ%3D%3D?line=22'>23</a>\u001b[0m     },\n\u001b[0;32m     <a href='vscode-notebook-cell:/c%3A/Users/Admin20200727/Code/qutip-qtrl/src/qutip_qtrl/sandbox.ipynb#W0sZmlsZQ%3D%3D?line=23'>24</a>\u001b[0m     tlist\u001b[39m=\u001b[39;49mtlist,\n\u001b[0;32m     <a href='vscode-notebook-cell:/c%3A/Users/Admin20200727/Code/qutip-qtrl/src/qutip_qtrl/sandbox.ipynb#W0sZmlsZQ%3D%3D?line=24'>25</a>\u001b[0m     kwargs\u001b[39m=\u001b[39;49m{ \n\u001b[0;32m     <a href='vscode-notebook-cell:/c%3A/Users/Admin20200727/Code/qutip-qtrl/src/qutip_qtrl/sandbox.ipynb#W0sZmlsZQ%3D%3D?line=25'>26</a>\u001b[0m         \u001b[39m\"\u001b[39;49m\u001b[39mintegrator\u001b[39;49m\u001b[39m\"\u001b[39;49m: {\n\u001b[0;32m     <a href='vscode-notebook-cell:/c%3A/Users/Admin20200727/Code/qutip-qtrl/src/qutip_qtrl/sandbox.ipynb#W0sZmlsZQ%3D%3D?line=26'>27</a>\u001b[0m             \u001b[39m\"\u001b[39;49m\u001b[39mmethod\u001b[39;49m\u001b[39m\"\u001b[39;49m: \u001b[39m\"\u001b[39;49m\u001b[39madams\u001b[39;49m\u001b[39m\"\u001b[39;49m\n\u001b[0;32m     <a href='vscode-notebook-cell:/c%3A/Users/Admin20200727/Code/qutip-qtrl/src/qutip_qtrl/sandbox.ipynb#W0sZmlsZQ%3D%3D?line=27'>28</a>\u001b[0m         }\n\u001b[0;32m     <a href='vscode-notebook-cell:/c%3A/Users/Admin20200727/Code/qutip-qtrl/src/qutip_qtrl/sandbox.ipynb#W0sZmlsZQ%3D%3D?line=28'>29</a>\u001b[0m     }\n\u001b[0;32m     <a href='vscode-notebook-cell:/c%3A/Users/Admin20200727/Code/qutip-qtrl/src/qutip_qtrl/sandbox.ipynb#W0sZmlsZQ%3D%3D?line=29'>30</a>\u001b[0m )\n",
      "File \u001b[1;32mc:\\Users\\Admin20200727\\Code\\qutip-qtrl\\src\\qutip_qtrl\\goat.py:469\u001b[0m, in \u001b[0;36moptimize_pulses\u001b[1;34m(objectives, pulse_options, tlist, kwargs)\u001b[0m\n\u001b[0;32m    467\u001b[0m \u001b[39m# initialize the Multi_GOAT instance\u001b[39;00m\n\u001b[0;32m    468\u001b[0m \u001b[39mwith\u001b[39;00m qt\u001b[39m.\u001b[39mCoreOptions(default_dtype\u001b[39m=\u001b[39mselection):\n\u001b[1;32m--> 469\u001b[0m     goats \u001b[39m=\u001b[39m Multi_GOAT(objectives, evo_time, para_counts,\n\u001b[0;32m    470\u001b[0m                        var_t, \u001b[39m*\u001b[39;49m\u001b[39m*\u001b[39;49mintegrator_kwargs)\n\u001b[0;32m    472\u001b[0m \u001b[39m## define the result Krotov style\u001b[39;00m\n\u001b[0;32m    473\u001b[0m \u001b[39m#result = Result(tlist, objectives)\u001b[39;00m\n\u001b[0;32m    474\u001b[0m \u001b[39m#result.start_time()\u001b[39;00m\n\u001b[0;32m    476\u001b[0m min_res \u001b[39m=\u001b[39m sp\u001b[39m.\u001b[39moptimize\u001b[39m.\u001b[39mbasinhopping(\n\u001b[0;32m    477\u001b[0m     func\u001b[39m=\u001b[39mgoats\u001b[39m.\u001b[39mgoal_fun,\n\u001b[0;32m    478\u001b[0m     minimizer_kwargs\u001b[39m=\u001b[39m{\n\u001b[1;32m   (...)\u001b[0m\n\u001b[0;32m    488\u001b[0m     \u001b[39m*\u001b[39m\u001b[39m*\u001b[39moptimizer_kwargs\n\u001b[0;32m    489\u001b[0m )\n",
      "File \u001b[1;32mc:\\Users\\Admin20200727\\Code\\qutip-qtrl\\src\\qutip_qtrl\\goat.py:233\u001b[0m, in \u001b[0;36mMulti_GOAT.__init__\u001b[1;34m(self, objectives, evo_time, para_counts, var_t, **integrator_options)\u001b[0m\n\u001b[0;32m    232\u001b[0m \u001b[39mdef\u001b[39;00m \u001b[39m__init__\u001b[39m(\u001b[39mself\u001b[39m, objectives, evo_time, para_counts, var_t, \u001b[39m*\u001b[39m\u001b[39m*\u001b[39mintegrator_options):\n\u001b[1;32m--> 233\u001b[0m     \u001b[39mself\u001b[39m\u001b[39m.\u001b[39mgoats \u001b[39m=\u001b[39m [GOAT(obj, evo_time, para_counts, var_t, \u001b[39m*\u001b[39;49m\u001b[39m*\u001b[39;49m integrator_options)\n\u001b[0;32m    234\u001b[0m                   \u001b[39mfor\u001b[39;49;00m obj \u001b[39min\u001b[39;49;00m objectives]\n\u001b[0;32m    235\u001b[0m     \u001b[39mself\u001b[39m\u001b[39m.\u001b[39mmean_infid \u001b[39m=\u001b[39m \u001b[39mNone\u001b[39;00m\n",
      "File \u001b[1;32mc:\\Users\\Admin20200727\\Code\\qutip-qtrl\\src\\qutip_qtrl\\goat.py:233\u001b[0m, in \u001b[0;36m<listcomp>\u001b[1;34m(.0)\u001b[0m\n\u001b[0;32m    232\u001b[0m \u001b[39mdef\u001b[39;00m \u001b[39m__init__\u001b[39m(\u001b[39mself\u001b[39m, objectives, evo_time, para_counts, var_t, \u001b[39m*\u001b[39m\u001b[39m*\u001b[39mintegrator_options):\n\u001b[1;32m--> 233\u001b[0m     \u001b[39mself\u001b[39m\u001b[39m.\u001b[39mgoats \u001b[39m=\u001b[39m [GOAT(obj, evo_time, para_counts, var_t, \u001b[39m*\u001b[39;49m\u001b[39m*\u001b[39;49m integrator_options)\n\u001b[0;32m    234\u001b[0m                   \u001b[39mfor\u001b[39;00m obj \u001b[39min\u001b[39;00m objectives]\n\u001b[0;32m    235\u001b[0m     \u001b[39mself\u001b[39m\u001b[39m.\u001b[39mmean_infid \u001b[39m=\u001b[39m \u001b[39mNone\u001b[39;00m\n",
      "File \u001b[1;32mc:\\Users\\Admin20200727\\Code\\qutip-qtrl\\src\\qutip_qtrl\\goat.py:87\u001b[0m, in \u001b[0;36mGOAT.__init__\u001b[1;34m(self, objective, evo_time, para_counts, var_t, **integrator_options)\u001b[0m\n\u001b[0;32m     83\u001b[0m \u001b[39m# initialize the solver\u001b[39;00m\n\u001b[0;32m     84\u001b[0m \u001b[39m# TODO: why does QobjEvo require init_params?\u001b[39;00m\n\u001b[0;32m     85\u001b[0m init_params \u001b[39m=\u001b[39m NP\u001b[39m.\u001b[39mones(\u001b[39mself\u001b[39m\u001b[39m.\u001b[39mtot_n_para)\n\u001b[0;32m     86\u001b[0m \u001b[39mself\u001b[39m\u001b[39m.\u001b[39msolver \u001b[39m=\u001b[39m qt\u001b[39m.\u001b[39mSESolver(\n\u001b[1;32m---> 87\u001b[0m     QobjEvo(\u001b[39mself\u001b[39;49m\u001b[39m.\u001b[39;49mH \u001b[39m+\u001b[39;49m \u001b[39mself\u001b[39;49m\u001b[39m.\u001b[39;49mdH, {\u001b[39m\"\u001b[39;49m\u001b[39mp\u001b[39;49m\u001b[39m\"\u001b[39;49m: init_params}),\n\u001b[0;32m     88\u001b[0m     options\u001b[39m=\u001b[39m\u001b[39mself\u001b[39m\u001b[39m.\u001b[39mintegrator_options\n\u001b[0;32m     89\u001b[0m )\n",
      "File \u001b[1;32mc:\\users\\admin20200727\\code\\qutip\\qutip\\core\\cy\\qobjevo.pyx:226\u001b[0m, in \u001b[0;36mqutip.core.cy.qobjevo.QobjEvo.__init__\u001b[1;34m()\u001b[0m\n",
      "File \u001b[1;32mc:\\users\\admin20200727\\code\\qutip\\qutip\\core\\cy\\qobjevo.pyx:260\u001b[0m, in \u001b[0;36mqutip.core.cy.qobjevo.QobjEvo._read_element\u001b[1;34m()\u001b[0m\n",
      "File \u001b[1;32mc:\\users\\admin20200727\\code\\qutip\\qutip\\core\\coefficient.py:175\u001b[0m, in \u001b[0;36mcoefficient\u001b[1;34m(base, tlist, args, args_ctypes, order, compile_opt, function_style, boundary_conditions, **kwargs)\u001b[0m\n\u001b[0;32m    173\u001b[0m     op \u001b[39m=\u001b[39m FunctionCoefficient(base, args\u001b[39m.\u001b[39mcopy(), style\u001b[39m=\u001b[39mfunction_style)\n\u001b[0;32m    174\u001b[0m     \u001b[39mif\u001b[39;00m \u001b[39mnot\u001b[39;00m \u001b[39misinstance\u001b[39m(op(\u001b[39m0\u001b[39m), numbers\u001b[39m.\u001b[39mNumber):\n\u001b[1;32m--> 175\u001b[0m         \u001b[39mraise\u001b[39;00m \u001b[39mTypeError\u001b[39;00m(\u001b[39m\"\u001b[39m\u001b[39mThe coefficient function must return a number\u001b[39m\u001b[39m\"\u001b[39m)\n\u001b[0;32m    176\u001b[0m     \u001b[39mreturn\u001b[39;00m op\n\u001b[0;32m    177\u001b[0m \u001b[39melse\u001b[39;00m:\n",
      "\u001b[1;31mTypeError\u001b[0m: The coefficient function must return a number"
     ]
    }
   ],
   "source": [
    "sin = lambda t, p: p[0] * np.sin(t)\n",
    "\n",
    "def d_sin(t,p,idx):\n",
    "    if idx==0: return np.sin(t)\n",
    "    if idx==1: return p[0] * np.cos(t)\n",
    "\n",
    "H = [qt.sigmax(), [qt.sigmay(), sin, {\"grad\":d_sin}]]\n",
    "\n",
    "obj = Objective(qt.qeye(2), H, qt.sigmax())\n",
    "tlist = np.linspace(0,1,100)\n",
    "\n",
    "goat.optimize_pulses(\n",
    "    objectives=[obj],\n",
    "    pulse_options={\n",
    "        sin: {\n",
    "            \"guess\": np.array([0.1]),\n",
    "            \"bounds\": np.array([(-1, 1)]),\n",
    "        },\n",
    "        \"time\": {\n",
    "            \"guess\": np.array([tlist[-1]]),\n",
    "            \"bounds\": np.array([(tlist[0], tlist[-1])]),\n",
    "        }\n",
    "    },\n",
    "    tlist=tlist,\n",
    "    kwargs={ \n",
    "        \"integrator\": {\n",
    "            \"method\": \"adams\"\n",
    "        }\n",
    "    }\n",
    ")"
   ]
  }
 ],
 "metadata": {
  "kernelspec": {
   "display_name": "qutip-dev",
   "language": "python",
   "name": "python3"
  },
  "language_info": {
   "codemirror_mode": {
    "name": "ipython",
    "version": 3
   },
   "file_extension": ".py",
   "mimetype": "text/x-python",
   "name": "python",
   "nbconvert_exporter": "python",
   "pygments_lexer": "ipython3",
   "version": "3.11.4"
  }
 },
 "nbformat": 4,
 "nbformat_minor": 2
}
