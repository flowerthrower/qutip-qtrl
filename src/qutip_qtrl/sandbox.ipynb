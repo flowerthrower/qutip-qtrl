{
 "cells": [
  {
   "cell_type": "code",
   "execution_count": 1,
   "metadata": {},
   "outputs": [],
   "source": [
    "import qutip as qt\n",
    "import numpy as np\n",
    "\n",
    "import jax\n",
    "import jax.numpy as jnp\n",
    "from diffrax import Dopri5, PIDController"
   ]
  },
  {
   "cell_type": "code",
   "execution_count": 2,
   "metadata": {},
   "outputs": [],
   "source": [
    "import goat\n",
    "from objective import Objective"
   ]
  },
  {
   "cell_type": "code",
   "execution_count": 3,
   "metadata": {},
   "outputs": [],
   "source": [
    "H_drft = qt.sigmaz()\n",
    "H_ctrl = [qt.sigmax(), qt.sigmay()]\n",
    "\n",
    "initial = qt.basis(2, 0)\n",
    "target = qt.basis(2, 1)\n",
    "\n",
    "evo_time = np.linspace(0, np.pi, 100)"
   ]
  },
  {
   "cell_type": "markdown",
   "metadata": {},
   "source": [
    "# Python"
   ]
  },
  {
   "cell_type": "code",
   "execution_count": 4,
   "metadata": {},
   "outputs": [],
   "source": [
    "def sin(t, p):\n",
    "    return p[0] * np.sin(p[1] * t + p[2])\n",
    "\n",
    "def grad_sin(t, p, idx):\n",
    "    if idx==0: return np.sin(p[1] * t + p[2])\n",
    "    if idx==1: return p[0] * np.cos(p[1] * t + p[2]) * t\n",
    "    if idx==2: return p[0] * np.cos(p[1] * t + p[2])\n",
    "    if idx==3: return p[0] * np.cos(p[1] * t + p[2]) * p[1] # w.r.t. time\n",
    "\n",
    "evo = [H_drft,\n",
    "       [H_ctrl[0], sin, {\"grad\": grad_sin}],\n",
    "       [H_ctrl[1], sin, {\"grad\": grad_sin}]]"
   ]
  },
  {
   "cell_type": "code",
   "execution_count": 5,
   "metadata": {},
   "outputs": [
    {
     "name": "stdout",
     "output_type": "stream",
     "text": [
      "1.36 s ± 1.34 ms per loop (mean ± std. dev. of 7 runs, 1 loop each)\n"
     ]
    }
   ],
   "source": [
    "%%timeit\n",
    "goat.optimize_pulses(\n",
    "    objectives=[Objective(initial, evo, target)],\n",
    "    pulse_options={\n",
    "        sin: {\n",
    "            \"guess\": np.zeros(3),\n",
    "            \"bounds\": np.array([(-10, 10)]),\n",
    "        }\n",
    "    },\n",
    "    tlist=evo_time,\n",
    "    kwargs={\n",
    "        \"optimizer\": {\n",
    "            \"disp\": False,\n",
    "            \"niter\": 100,  # = 0: no global search\n",
    "            \"seed\": 123,  # deterministic results\n",
    "            # num of iters without improvement before stopping\n",
    "            \"niter_success\": 10\n",
    "        },\n",
    "        \"integrator\": {\n",
    "            \"progress_bar\": False\n",
    "        }\n",
    "    }\n",
    ")"
   ]
  },
  {
   "cell_type": "markdown",
   "metadata": {},
   "source": [
    "# Cython"
   ]
  },
  {
   "cell_type": "code",
   "execution_count": 6,
   "metadata": {},
   "outputs": [],
   "source": [
    "%load_ext Cython"
   ]
  },
  {
   "cell_type": "code",
   "execution_count": 7,
   "metadata": {},
   "outputs": [],
   "source": [
    "%%cython\n",
    "import numpy as np \n",
    "\n",
    "cpdef double sin_cy(double t, double[:] p):\n",
    "    return p[0] * np.sin(p[1] * t + p[2])\n",
    "\n",
    "cpdef double grad_sin_cy(double t, double[:] p, int idx):\n",
    "    if idx==0: return np.sin(p[1] * t + p[2])\n",
    "    if idx==1: return p[0] * np.cos(p[1] * t + p[2]) * t\n",
    "    if idx==2: return p[0] * np.cos(p[1] * t + p[2])\n",
    "    if idx==3: return p[0] * np.cos(p[1] * t + p[2]) * p[1] # w.r.t. time"
   ]
  },
  {
   "cell_type": "code",
   "execution_count": 8,
   "metadata": {},
   "outputs": [],
   "source": [
    "evo_cy = [H_drft,\n",
    "          [H_ctrl[0], sin_cy, {\"grad\": grad_sin_cy}],\n",
    "          [H_ctrl[1], sin_cy, {\"grad\": grad_sin_cy}]]"
   ]
  },
  {
   "cell_type": "code",
   "execution_count": 9,
   "metadata": {},
   "outputs": [
    {
     "name": "stdout",
     "output_type": "stream",
     "text": [
      "1.44 s ± 2.21 ms per loop (mean ± std. dev. of 7 runs, 1 loop each)\n"
     ]
    }
   ],
   "source": [
    "%%timeit\n",
    "goat.optimize_pulses(\n",
    "    objectives=[Objective(initial, evo_cy, target)],\n",
    "    pulse_options={\n",
    "        sin_cy: {\n",
    "            \"guess\": np.zeros(3),\n",
    "            \"bounds\": np.array([(-10, 10)]),\n",
    "        }\n",
    "    },\n",
    "    tlist=evo_time,\n",
    "    kwargs={\n",
    "        \"optimizer\": {\n",
    "            \"disp\": False,\n",
    "            \"niter\": 100,  # = 0: no global search\n",
    "            \"seed\": 123,  # deterministic results\n",
    "            # num of iters without improvement before stopping\n",
    "            \"niter_success\": 10\n",
    "        },\n",
    "        \"integrator\": {\n",
    "            \"progress_bar\": False\n",
    "        }\n",
    "    }\n",
    ")"
   ]
  },
  {
   "cell_type": "markdown",
   "metadata": {},
   "source": [
    "# JAX"
   ]
  },
  {
   "cell_type": "code",
   "execution_count": 10,
   "metadata": {},
   "outputs": [],
   "source": [
    "def sin_jax(t, p):\n",
    "    return p[0] * jnp.sin(p[1] * t + p[2])\n",
    "\n",
    "def grad_sin_jax(t, p, idx):\n",
    "    dt, dp = jax.grad(sin_jax, argnums=(0, 1))(t, p)\n",
    "    return jnp.concatenate((dp, dt), axis=None)[idx]\n",
    "\n",
    "evo_jax = [H_drft,\n",
    "          [H_ctrl[0], sin_jax, {\"grad\": grad_sin_jax}],\n",
    "          [H_ctrl[1], sin_jax, {\"grad\": grad_sin_jax}]]"
   ]
  },
  {
   "cell_type": "code",
   "execution_count": 11,
   "metadata": {},
   "outputs": [
    {
     "name": "stdout",
     "output_type": "stream",
     "text": [
      "9.28 s ± 193 ms per loop (mean ± std. dev. of 7 runs, 1 loop each)\n"
     ]
    }
   ],
   "source": [
    "%%timeit\n",
    "goat.optimize_pulses(\n",
    "    objectives=[Objective(initial, evo_jax, target)],\n",
    "    pulse_options={\n",
    "        sin_jax: {\n",
    "            \"guess\": np.zeros(3),\n",
    "            \"bounds\": np.array([(-10, 10)]),\n",
    "        }\n",
    "    },\n",
    "    tlist=evo_time,\n",
    "    kwargs={\n",
    "        \"optimizer\": {\n",
    "            \"disp\": False,\n",
    "            \"niter\": 100,  # = 0: no global search\n",
    "            \"seed\": 123,  # deterministic results\n",
    "            # num of iters without improvement before stopping\n",
    "            \"niter_success\": 10\n",
    "        },\n",
    "        \"integrator\": {\n",
    "            \"progress_bar\": False,\n",
    "            \"method\": \"diffrax\",\n",
    "            \"stepsize_controller\": PIDController(rtol=1e-5, atol=1e-5),\n",
    "            \"solver\": Dopri5()\n",
    "        }\n",
    "    }\n",
    ")"
   ]
  },
  {
   "cell_type": "code",
   "execution_count": null,
   "metadata": {},
   "outputs": [],
   "source": []
  }
 ],
 "metadata": {
  "kernelspec": {
   "display_name": "Python 3 (ipykernel)",
   "language": "python",
   "name": "python3"
  },
  "language_info": {
   "codemirror_mode": {
    "name": "ipython",
    "version": 3
   },
   "file_extension": ".py",
   "mimetype": "text/x-python",
   "name": "python",
   "nbconvert_exporter": "python",
   "pygments_lexer": "ipython3",
   "version": "3.11.5"
  }
 },
 "nbformat": 4,
 "nbformat_minor": 2
}
